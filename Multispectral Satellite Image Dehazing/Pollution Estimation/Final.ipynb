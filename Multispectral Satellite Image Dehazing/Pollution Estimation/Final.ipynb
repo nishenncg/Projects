{
 "cells": [
  {
   "cell_type": "code",
   "execution_count": 6,
   "id": "81cf0c20",
   "metadata": {},
   "outputs": [
    {
     "name": "stdout",
     "output_type": "stream",
     "text": [
      "Correlation between air quality station data and Sentinel data: 0.5489001046938279\n"
     ]
    }
   ],
   "source": [
    "import pandas as pd\n",
    "import rasterio\n",
    "\n",
    "# Load air quality station data\n",
    "station_data = pd.read_csv('Ind_SW_NO2.csv',encoding= 'unicode_escape')\n",
    "\n",
    "# Load Sentinel data\n",
    "file_path = 'S5P_NO2_India_2021.tif'\n",
    "with rasterio.open(file_path) as src:\n",
    "    raster_data = src.read(1)\n",
    "\n",
    "# Convert Sentinel pixel values to NO2 concentration\n",
    "M = 46.0055 # Molar mass of NO2 in g/mol\n",
    "V = 0.0002  # Vertical column density of NO2 in mol/m2\n",
    "city_data = []\n",
    "for index, row in station_data.iterrows():\n",
    "    longitude = row['Longitude']\n",
    "    latitude = row['Latitude']\n",
    "    city_name = row['City']\n",
    "    row, col = src.index(longitude, latitude)\n",
    "    pixel_value = raster_data[row][col]\n",
    "    NO2_concentration = (pixel_value * M) / V\n",
    "    city_data.append([city_name, NO2_concentration])\n",
    "\n",
    "# Create DataFrame from Sentinel data\n",
    "sentinel_data = pd.DataFrame(city_data, columns=['City', 'Sentinel NO2 Reading_2019 (µg/m³)'])\n",
    "\n",
    "# Merge air quality station data and Sentinel data\n",
    "merged_data = pd.merge(station_data, sentinel_data, on='City')\n",
    "\n",
    "# Calculate correlation between air quality station NO2 readings and Sentinel NO2 readings\n",
    "correlation = merged_data['NO2 Reading_2019 (µg/m³)'].corr(merged_data['Sentinel NO2 Reading_2019 (µg/m³)'])\n",
    "\n",
    "# Print correlation\n",
    "print(f\"Correlation between air quality station data and Sentinel data: {correlation}\")\n"
   ]
  },
  {
   "cell_type": "code",
   "execution_count": 8,
   "id": "cce015c0",
   "metadata": {},
   "outputs": [],
   "source": [
    "import pandas as pd\n",
    "import rasterio\n",
    "\n",
    "# Load air quality station data\n",
    "station_data = pd.read_csv('Ind_SW_NO2.csv',encoding= 'unicode_escape')\n",
    "station_data = station_data[['City', 'NO2 Reading_2019 (µg/m³)', 'Latitude', 'Longitude']]\n",
    "\n",
    "# Load Sentinel data\n",
    "file_path = 'S5P_NO2_India_2019.tif'\n",
    "with rasterio.open(file_path) as src:\n",
    "    raster_data = src.read(1)\n",
    "\n",
    "M = 46.0055 # Molar mass of NO2 in g/mol\n",
    "V = 0.0002  # Vertical column density of NO2 in mol/m2\n",
    "\n",
    "# Combine air quality station data with Sentinel data\n",
    "for index, row in station_data.iterrows():\n",
    "    city_name = row['City']\n",
    "    latitude = row['Latitude']\n",
    "    longitude = row['Longitude']\n",
    "    row, col = src.index(longitude, latitude)\n",
    "    pixel_value = raster_data[row][col]\n",
    "    NO2_concentration = (pixel_value * M) / V\n",
    "    station_NO2 = station_data.loc[index, 'NO2 Reading_2019 (µg/m³)']\n",
    "    combined_NO2 = (station_NO2 + NO2_concentration) / 2\n",
    "    station_data.at[index, 'NO2 Reading_2019 (µg/m³)'] = combined_NO2\n",
    "\n",
    "# Save the combined data to a new file\n",
    "station_data.to_excel('Combined_NO2_Data_2019.xlsx', index=False)"
   ]
  },
  {
   "cell_type": "code",
   "execution_count": null,
   "id": "9da4f702",
   "metadata": {},
   "outputs": [],
   "source": []
  }
 ],
 "metadata": {
  "kernelspec": {
   "display_name": "Python 3 (ipykernel)",
   "language": "python",
   "name": "python3"
  },
  "language_info": {
   "codemirror_mode": {
    "name": "ipython",
    "version": 3
   },
   "file_extension": ".py",
   "mimetype": "text/x-python",
   "name": "python",
   "nbconvert_exporter": "python",
   "pygments_lexer": "ipython3",
   "version": "3.9.13"
  }
 },
 "nbformat": 4,
 "nbformat_minor": 5
}
